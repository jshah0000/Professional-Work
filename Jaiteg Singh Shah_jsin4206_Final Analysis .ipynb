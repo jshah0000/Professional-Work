{
 "cells": [
  {
   "cell_type": "code",
   "execution_count": 1,
   "id": "99ec3bf9",
   "metadata": {},
   "outputs": [],
   "source": [
    "import numpy as np\n",
    "import pandas as pd\n",
    "import matplotlib as plt\n",
    "import matplotlib.pyplot as py"
   ]
  },
  {
   "cell_type": "code",
   "execution_count": 2,
   "id": "2eda4e9e",
   "metadata": {},
   "outputs": [],
   "source": [
    "basic_model_comparison = pd.read_csv('Basic Model stats.csv')"
   ]
  },
  {
   "cell_type": "code",
   "execution_count": 3,
   "id": "5eb3e1f1",
   "metadata": {
    "scrolled": false
   },
   "outputs": [
    {
     "name": "stdout",
     "output_type": "stream",
     "text": [
      "╒════╤══════════════════════╤════════════╤═══════════════════════╤════════════════════╤══════════════════════╤═══════════╕\n",
      "│    │ Model                │   Accuracy │   Macro Avg Precision │   Macro Avg Recall │   Macro Avg F1-Score │   Support │\n",
      "╞════╪══════════════════════╪════════════╪═══════════════════════╪════════════════════╪══════════════════════╪═══════════╡\n",
      "│  0 │ Logistic Regression  │   0.162025 │              0.159201 │           0.162025 │             0.158934 │      3160 │\n",
      "├────┼──────────────────────┼────────────┼───────────────────────┼────────────────────┼──────────────────────┼───────────┤\n",
      "│  1 │ Decision Tree        │   0.162025 │              0.159201 │           0.162025 │             0.158934 │      3160 │\n",
      "├────┼──────────────────────┼────────────┼───────────────────────┼────────────────────┼──────────────────────┼───────────┤\n",
      "│  2 │ Gaussian Naive Bayes │   0.211709 │              0.233065 │           0.211709 │             0.208414 │      3160 │\n",
      "├────┼──────────────────────┼────────────┼───────────────────────┼────────────────────┼──────────────────────┼───────────┤\n",
      "│  3 │ Random Forest        │   0.233228 │              0.243171 │           0.233228 │             0.225462 │      3160 │\n",
      "╘════╧══════════════════════╧════════════╧═══════════════════════╧════════════════════╧══════════════════════╧═══════════╛\n"
     ]
    }
   ],
   "source": [
    "from tabulate import tabulate\n",
    "\n",
    "table = tabulate(basic_model_comparison, headers = 'keys', tablefmt = 'fancy_grid')\n",
    "\n",
    "print(table)\n"
   ]
  },
  {
   "cell_type": "code",
   "execution_count": null,
   "id": "9e52b698",
   "metadata": {},
   "outputs": [],
   "source": [
    "### Logistic Regression"
   ]
  },
  {
   "cell_type": "code",
   "execution_count": 4,
   "id": "8626967d",
   "metadata": {},
   "outputs": [],
   "source": [
    "lg_stats = pd.read_csv('Logistic Regression hypertuning.csv')"
   ]
  },
  {
   "cell_type": "code",
   "execution_count": null,
   "id": "35e591a0",
   "metadata": {},
   "outputs": [],
   "source": [
    "#Parameter Grid\n",
    "param_grid = {\n",
    "    'C':[0.1,1,10],\n",
    "    'penalty':['elasticnet'],\n",
    "    'solver':['saga'],\n",
    "    'l1_ratio':[0.5,0.75,1.0],\n",
    "    'max_iter':[500]\n",
    "}"
   ]
  },
  {
   "cell_type": "code",
   "execution_count": 5,
   "id": "4e11aaee",
   "metadata": {},
   "outputs": [
    {
     "data": {
      "text/html": [
       "<div>\n",
       "<style scoped>\n",
       "    .dataframe tbody tr th:only-of-type {\n",
       "        vertical-align: middle;\n",
       "    }\n",
       "\n",
       "    .dataframe tbody tr th {\n",
       "        vertical-align: top;\n",
       "    }\n",
       "\n",
       "    .dataframe thead th {\n",
       "        text-align: right;\n",
       "    }\n",
       "</style>\n",
       "<table border=\"1\" class=\"dataframe\">\n",
       "  <thead>\n",
       "    <tr style=\"text-align: right;\">\n",
       "      <th></th>\n",
       "      <th>C</th>\n",
       "      <th>l1_ratio</th>\n",
       "      <th>Mean Test Score</th>\n",
       "      <th>Std Test Score</th>\n",
       "      <th>Rank</th>\n",
       "    </tr>\n",
       "  </thead>\n",
       "  <tbody>\n",
       "    <tr>\n",
       "      <th>0</th>\n",
       "      <td>0.1</td>\n",
       "      <td>1.00</td>\n",
       "      <td>0.190005</td>\n",
       "      <td>0.012070</td>\n",
       "      <td>1</td>\n",
       "    </tr>\n",
       "    <tr>\n",
       "      <th>1</th>\n",
       "      <td>0.1</td>\n",
       "      <td>0.75</td>\n",
       "      <td>0.189682</td>\n",
       "      <td>0.009194</td>\n",
       "      <td>2</td>\n",
       "    </tr>\n",
       "    <tr>\n",
       "      <th>2</th>\n",
       "      <td>1.0</td>\n",
       "      <td>0.75</td>\n",
       "      <td>0.189679</td>\n",
       "      <td>0.005585</td>\n",
       "      <td>3</td>\n",
       "    </tr>\n",
       "    <tr>\n",
       "      <th>3</th>\n",
       "      <td>10.0</td>\n",
       "      <td>1.00</td>\n",
       "      <td>0.189357</td>\n",
       "      <td>0.007404</td>\n",
       "      <td>4</td>\n",
       "    </tr>\n",
       "    <tr>\n",
       "      <th>4</th>\n",
       "      <td>1.0</td>\n",
       "      <td>0.50</td>\n",
       "      <td>0.189357</td>\n",
       "      <td>0.006409</td>\n",
       "      <td>4</td>\n",
       "    </tr>\n",
       "    <tr>\n",
       "      <th>5</th>\n",
       "      <td>10.0</td>\n",
       "      <td>0.75</td>\n",
       "      <td>0.189357</td>\n",
       "      <td>0.006409</td>\n",
       "      <td>4</td>\n",
       "    </tr>\n",
       "    <tr>\n",
       "      <th>6</th>\n",
       "      <td>1.0</td>\n",
       "      <td>1.00</td>\n",
       "      <td>0.189357</td>\n",
       "      <td>0.006409</td>\n",
       "      <td>4</td>\n",
       "    </tr>\n",
       "    <tr>\n",
       "      <th>7</th>\n",
       "      <td>10.0</td>\n",
       "      <td>0.50</td>\n",
       "      <td>0.189357</td>\n",
       "      <td>0.006100</td>\n",
       "      <td>8</td>\n",
       "    </tr>\n",
       "    <tr>\n",
       "      <th>8</th>\n",
       "      <td>0.1</td>\n",
       "      <td>0.50</td>\n",
       "      <td>0.187422</td>\n",
       "      <td>0.007247</td>\n",
       "      <td>9</td>\n",
       "    </tr>\n",
       "  </tbody>\n",
       "</table>\n",
       "</div>"
      ],
      "text/plain": [
       "      C  l1_ratio  Mean Test Score  Std Test Score  Rank\n",
       "0   0.1      1.00         0.190005        0.012070     1\n",
       "1   0.1      0.75         0.189682        0.009194     2\n",
       "2   1.0      0.75         0.189679        0.005585     3\n",
       "3  10.0      1.00         0.189357        0.007404     4\n",
       "4   1.0      0.50         0.189357        0.006409     4\n",
       "5  10.0      0.75         0.189357        0.006409     4\n",
       "6   1.0      1.00         0.189357        0.006409     4\n",
       "7  10.0      0.50         0.189357        0.006100     8\n",
       "8   0.1      0.50         0.187422        0.007247     9"
      ]
     },
     "execution_count": 5,
     "metadata": {},
     "output_type": "execute_result"
    }
   ],
   "source": [
    "lg_stats"
   ]
  },
  {
   "cell_type": "code",
   "execution_count": 7,
   "id": "38a16ec3",
   "metadata": {},
   "outputs": [],
   "source": [
    "import seaborn as sns\n"
   ]
  },
  {
   "cell_type": "code",
   "execution_count": 10,
   "id": "6687a2d7",
   "metadata": {},
   "outputs": [
    {
     "data": {
      "image/png": "[encoded data removed]",
      "text/plain": [
       "<Figure size 432x288 with 2 Axes>"
      ]
     },
     "metadata": {
      "needs_background": "light"
     },
     "output_type": "display_data"
    }
   ],
   "source": [
    "pivot_table = lg_stats.pivot(\"C\", \"l1_ratio\", \"Mean Test Score\")\n",
    "sns.heatmap(pivot_table, annot=True, cmap=\"YlGnBu\", fmt=\".5f\")\n",
    "py.title(\"Heatmap of Mean Test Scores by C and l1_ratio\")\n",
    "py.show()"
   ]
  },
  {
   "cell_type": "code",
   "execution_count": 18,
   "id": "b2acc890",
   "metadata": {},
   "outputs": [
    {
     "data": {
      "image/png": "[encoded data removed]",
      "text/plain": [
       "<Figure size 432x288 with 1 Axes>"
      ]
     },
     "metadata": {
      "needs_background": "light"
     },
     "output_type": "display_data"
    }
   ],
   "source": [
    "custom_palette = {\n",
    "    0.1: '#FF5733',  # bright red-orange\n",
    "    1.0: '#33C1FF',  # sky blue\n",
    "    10.0: '#9D33FF'  # purple\n",
    "}\n",
    "sns.lineplot(data=lg_stats, x=\"l1_ratio\", y=\"Mean Test Score\", hue=\"C\", marker = \"o\", palette = custom_palette )\n",
    "py.title(\"Mean Test Score vs. l1_ratio by C\")\n",
    "py.show()"
   ]
  },
  {
   "cell_type": "code",
   "execution_count": 19,
   "id": "7134f6bf",
   "metadata": {},
   "outputs": [],
   "source": [
    "## Decision Tree Hypertuning"
   ]
  },
  {
   "cell_type": "code",
   "execution_count": 21,
   "id": "8c09f00f",
   "metadata": {},
   "outputs": [],
   "source": [
    "dc_stats = pd.read_csv('Decision Tree hypertuning.csv')"
   ]
  },
  {
   "cell_type": "code",
   "execution_count": 22,
   "id": "58076417",
   "metadata": {},
   "outputs": [
    {
     "data": {
      "text/html": [
       "<div>\n",
       "<style scoped>\n",
       "    .dataframe tbody tr th:only-of-type {\n",
       "        vertical-align: middle;\n",
       "    }\n",
       "\n",
       "    .dataframe tbody tr th {\n",
       "        vertical-align: top;\n",
       "    }\n",
       "\n",
       "    .dataframe thead th {\n",
       "        text-align: right;\n",
       "    }\n",
       "</style>\n",
       "<table border=\"1\" class=\"dataframe\">\n",
       "  <thead>\n",
       "    <tr style=\"text-align: right;\">\n",
       "      <th></th>\n",
       "      <th>Rank</th>\n",
       "      <th>Criterion</th>\n",
       "      <th>Max Depth</th>\n",
       "      <th>Mean Test Score</th>\n",
       "      <th>Std Test Score</th>\n",
       "    </tr>\n",
       "  </thead>\n",
       "  <tbody>\n",
       "    <tr>\n",
       "      <th>0</th>\n",
       "      <td>1</td>\n",
       "      <td>Entropy</td>\n",
       "      <td>None</td>\n",
       "      <td>0.439355</td>\n",
       "      <td>0.011068</td>\n",
       "    </tr>\n",
       "    <tr>\n",
       "      <th>1</th>\n",
       "      <td>2</td>\n",
       "      <td>Gini</td>\n",
       "      <td>None</td>\n",
       "      <td>0.437106</td>\n",
       "      <td>0.032753</td>\n",
       "    </tr>\n",
       "    <tr>\n",
       "      <th>2</th>\n",
       "      <td>3</td>\n",
       "      <td>Entropy</td>\n",
       "      <td>None</td>\n",
       "      <td>0.414197</td>\n",
       "      <td>0.014469</td>\n",
       "    </tr>\n",
       "    <tr>\n",
       "      <th>3</th>\n",
       "      <td>4</td>\n",
       "      <td>Gini</td>\n",
       "      <td>None</td>\n",
       "      <td>0.412903</td>\n",
       "      <td>0.003557</td>\n",
       "    </tr>\n",
       "    <tr>\n",
       "      <th>4</th>\n",
       "      <td>5</td>\n",
       "      <td>Entropy</td>\n",
       "      <td>None</td>\n",
       "      <td>0.409036</td>\n",
       "      <td>0.012974</td>\n",
       "    </tr>\n",
       "    <tr>\n",
       "      <th>5</th>\n",
       "      <td>212</td>\n",
       "      <td>Entropy</td>\n",
       "      <td>3</td>\n",
       "      <td>0.119680</td>\n",
       "      <td>0.007828</td>\n",
       "    </tr>\n",
       "    <tr>\n",
       "      <th>6</th>\n",
       "      <td>213</td>\n",
       "      <td>Gini</td>\n",
       "      <td>3</td>\n",
       "      <td>0.117745</td>\n",
       "      <td>0.008346</td>\n",
       "    </tr>\n",
       "    <tr>\n",
       "      <th>7</th>\n",
       "      <td>214</td>\n",
       "      <td>Gini</td>\n",
       "      <td>3</td>\n",
       "      <td>0.117419</td>\n",
       "      <td>0.005062</td>\n",
       "    </tr>\n",
       "    <tr>\n",
       "      <th>8</th>\n",
       "      <td>215</td>\n",
       "      <td>Gini</td>\n",
       "      <td>3</td>\n",
       "      <td>0.116127</td>\n",
       "      <td>0.011674</td>\n",
       "    </tr>\n",
       "    <tr>\n",
       "      <th>9</th>\n",
       "      <td>216</td>\n",
       "      <td>Gini</td>\n",
       "      <td>3</td>\n",
       "      <td>0.115489</td>\n",
       "      <td>0.012014</td>\n",
       "    </tr>\n",
       "  </tbody>\n",
       "</table>\n",
       "</div>"
      ],
      "text/plain": [
       "   Rank Criterion Max Depth  Mean Test Score  Std Test Score\n",
       "0     1   Entropy      None         0.439355        0.011068\n",
       "1     2      Gini      None         0.437106        0.032753\n",
       "2     3   Entropy      None         0.414197        0.014469\n",
       "3     4      Gini      None         0.412903        0.003557\n",
       "4     5   Entropy      None         0.409036        0.012974\n",
       "5   212   Entropy         3         0.119680        0.007828\n",
       "6   213      Gini         3         0.117745        0.008346\n",
       "7   214      Gini         3         0.117419        0.005062\n",
       "8   215      Gini         3         0.116127        0.011674\n",
       "9   216      Gini         3         0.115489        0.012014"
      ]
     },
     "execution_count": 22,
     "metadata": {},
     "output_type": "execute_result"
    }
   ],
   "source": [
    "dc_stats"
   ]
  },
  {
   "cell_type": "code",
   "execution_count": 25,
   "id": "3365dc86",
   "metadata": {},
   "outputs": [
    {
     "data": {
      "text/plain": [
       "Text(0.5, 1.0, 'Comparison between Gini and Entropy')"
      ]
     },
     "execution_count": 25,
     "metadata": {},
     "output_type": "execute_result"
    },
    {
     "data": {
      "image/png": "[encoded data removed]",
      "text/plain": [
       "<Figure size 432x288 with 1 Axes>"
      ]
     },
     "metadata": {
      "needs_background": "light"
     },
     "output_type": "display_data"
    }
   ],
   "source": [
    "sns.barplot(data=dc_stats, x='Rank', y='Mean Test Score', hue='Criterion')\n",
    "py.title('Comparison between Gini and Entropy')"
   ]
  },
  {
   "cell_type": "code",
   "execution_count": 26,
   "id": "21c36a27",
   "metadata": {},
   "outputs": [],
   "source": [
    "#Naive Bayes\n"
   ]
  },
  {
   "cell_type": "code",
   "execution_count": 27,
   "id": "d0fdcf06",
   "metadata": {},
   "outputs": [],
   "source": [
    "nb_stats = pd.read_csv('Naive Bayes hypertuning.csv')"
   ]
  },
  {
   "cell_type": "code",
   "execution_count": 28,
   "id": "aa8589af",
   "metadata": {},
   "outputs": [
    {
     "data": {
      "text/html": [
       "<div>\n",
       "<style scoped>\n",
       "    .dataframe tbody tr th:only-of-type {\n",
       "        vertical-align: middle;\n",
       "    }\n",
       "\n",
       "    .dataframe tbody tr th {\n",
       "        vertical-align: top;\n",
       "    }\n",
       "\n",
       "    .dataframe thead th {\n",
       "        text-align: right;\n",
       "    }\n",
       "</style>\n",
       "<table border=\"1\" class=\"dataframe\">\n",
       "  <thead>\n",
       "    <tr style=\"text-align: right;\">\n",
       "      <th></th>\n",
       "      <th>Var Smoothing</th>\n",
       "      <th>Mean Test Score</th>\n",
       "      <th>Std Test Score</th>\n",
       "      <th>Rank</th>\n",
       "    </tr>\n",
       "  </thead>\n",
       "  <tbody>\n",
       "    <tr>\n",
       "      <th>0</th>\n",
       "      <td>1.000000e-09</td>\n",
       "      <td>0.236448</td>\n",
       "      <td>0.012541</td>\n",
       "      <td>1</td>\n",
       "    </tr>\n",
       "    <tr>\n",
       "      <th>1</th>\n",
       "      <td>1.000000e-08</td>\n",
       "      <td>0.236448</td>\n",
       "      <td>0.012541</td>\n",
       "      <td>1</td>\n",
       "    </tr>\n",
       "    <tr>\n",
       "      <th>2</th>\n",
       "      <td>1.000000e-07</td>\n",
       "      <td>0.236448</td>\n",
       "      <td>0.012541</td>\n",
       "      <td>1</td>\n",
       "    </tr>\n",
       "    <tr>\n",
       "      <th>3</th>\n",
       "      <td>1.000000e-06</td>\n",
       "      <td>0.236448</td>\n",
       "      <td>0.012541</td>\n",
       "      <td>1</td>\n",
       "    </tr>\n",
       "    <tr>\n",
       "      <th>4</th>\n",
       "      <td>1.000000e-05</td>\n",
       "      <td>0.236126</td>\n",
       "      <td>0.012995</td>\n",
       "      <td>5</td>\n",
       "    </tr>\n",
       "  </tbody>\n",
       "</table>\n",
       "</div>"
      ],
      "text/plain": [
       "   Var Smoothing  Mean Test Score  Std Test Score  Rank\n",
       "0   1.000000e-09         0.236448        0.012541     1\n",
       "1   1.000000e-08         0.236448        0.012541     1\n",
       "2   1.000000e-07         0.236448        0.012541     1\n",
       "3   1.000000e-06         0.236448        0.012541     1\n",
       "4   1.000000e-05         0.236126        0.012995     5"
      ]
     },
     "execution_count": 28,
     "metadata": {},
     "output_type": "execute_result"
    }
   ],
   "source": [
    "nb_stats"
   ]
  },
  {
   "cell_type": "code",
   "execution_count": 62,
   "id": "9a4b60b9",
   "metadata": {},
   "outputs": [
    {
     "data": {
      "image/png": "[encoded data removed]",
      "text/plain": [
       "<Figure size 432x288 with 1 Axes>"
      ]
     },
     "metadata": {
      "needs_background": "light"
     },
     "output_type": "display_data"
    }
   ],
   "source": [
    "sns.lineplot(data = nb_stats, x='Mean Test Score', y = 'Var Smoothing', marker='o')\n",
    "py.title('Var Smoothing vs Mean Test Score')\n",
    "py.show()"
   ]
  },
  {
   "cell_type": "code",
   "execution_count": 40,
   "id": "cffee9f7",
   "metadata": {},
   "outputs": [],
   "source": [
    "table_ = tabulate(nb_stats, headers = 'keys', tablefmt = 'fancy_grid')"
   ]
  },
  {
   "cell_type": "code",
   "execution_count": 41,
   "id": "2674f4f5",
   "metadata": {},
   "outputs": [
    {
     "name": "stdout",
     "output_type": "stream",
     "text": [
      "╒════╤═════════════════╤═══════════════════╤══════════════════╤════════╕\n",
      "│    │   Var Smoothing │   Mean Test Score │   Std Test Score │   Rank │\n",
      "╞════╪═════════════════╪═══════════════════╪══════════════════╪════════╡\n",
      "│  0 │           1e-09 │          0.236448 │         0.012541 │      1 │\n",
      "├────┼─────────────────┼───────────────────┼──────────────────┼────────┤\n",
      "│  1 │           1e-08 │          0.236448 │         0.012541 │      1 │\n",
      "├────┼─────────────────┼───────────────────┼──────────────────┼────────┤\n",
      "│  2 │           1e-07 │          0.236448 │         0.012541 │      1 │\n",
      "├────┼─────────────────┼───────────────────┼──────────────────┼────────┤\n",
      "│  3 │           1e-06 │          0.236448 │         0.012541 │      1 │\n",
      "├────┼─────────────────┼───────────────────┼──────────────────┼────────┤\n",
      "│  4 │           1e-05 │          0.236126 │         0.012995 │      5 │\n",
      "╘════╧═════════════════╧═══════════════════╧══════════════════╧════════╛\n"
     ]
    }
   ],
   "source": [
    "print(table_)"
   ]
  },
  {
   "cell_type": "code",
   "execution_count": 42,
   "id": "c00e2371",
   "metadata": {},
   "outputs": [],
   "source": [
    "##Random Forests"
   ]
  },
  {
   "cell_type": "code",
   "execution_count": 46,
   "id": "e2fa9679",
   "metadata": {},
   "outputs": [],
   "source": [
    "rf_stats = pd.read_csv('Random Forests hypertuning.csv')"
   ]
  },
  {
   "cell_type": "code",
   "execution_count": 59,
   "id": "47d2113d",
   "metadata": {},
   "outputs": [],
   "source": [
    "rf_stats =rf_stats.reset_index()"
   ]
  },
  {
   "cell_type": "code",
   "execution_count": 63,
   "id": "bb597c7d",
   "metadata": {},
   "outputs": [
    {
     "data": {
      "text/plain": [
       "Text(0.5, 1.0, 'Bootstrap Comparison')"
      ]
     },
     "execution_count": 63,
     "metadata": {},
     "output_type": "execute_result"
    },
    {
     "data": {
      "image/png": "[encoded data removed]",
      "text/plain": [
       "<Figure size 432x288 with 1 Axes>"
      ]
     },
     "metadata": {
      "needs_background": "light"
     },
     "output_type": "display_data"
    }
   ],
   "source": [
    "sns.lineplot(data = rf_stats,x = 'index', y='Mean Test Score', hue='Bootstrap', marker = 'o') \n",
    "py.title('Bootstrap Comparison')"
   ]
  },
  {
   "cell_type": "code",
   "execution_count": 64,
   "id": "8242d66c",
   "metadata": {},
   "outputs": [],
   "source": [
    "##final Comparison"
   ]
  },
  {
   "cell_type": "code",
   "execution_count": 69,
   "id": "e82a4552",
   "metadata": {},
   "outputs": [],
   "source": [
    "fc_stats = pd.read_csv('Final Models.csv')"
   ]
  },
  {
   "cell_type": "code",
   "execution_count": 70,
   "id": "748c3fbe",
   "metadata": {},
   "outputs": [
    {
     "data": {
      "text/html": [
       "<div>\n",
       "<style scoped>\n",
       "    .dataframe tbody tr th:only-of-type {\n",
       "        vertical-align: middle;\n",
       "    }\n",
       "\n",
       "    .dataframe tbody tr th {\n",
       "        vertical-align: top;\n",
       "    }\n",
       "\n",
       "    .dataframe thead th {\n",
       "        text-align: right;\n",
       "    }\n",
       "</style>\n",
       "<table border=\"1\" class=\"dataframe\">\n",
       "  <thead>\n",
       "    <tr style=\"text-align: right;\">\n",
       "      <th></th>\n",
       "      <th>Model</th>\n",
       "      <th>Accuracy</th>\n",
       "      <th>Macro Precision</th>\n",
       "      <th>Macro Recall</th>\n",
       "      <th>Macro F1-Score</th>\n",
       "      <th>Support</th>\n",
       "    </tr>\n",
       "  </thead>\n",
       "  <tbody>\n",
       "    <tr>\n",
       "      <th>0</th>\n",
       "      <td>Logistic Regression</td>\n",
       "      <td>0.166772</td>\n",
       "      <td>0.164540</td>\n",
       "      <td>0.166772</td>\n",
       "      <td>0.163675</td>\n",
       "      <td>3160</td>\n",
       "    </tr>\n",
       "    <tr>\n",
       "      <th>1</th>\n",
       "      <td>Decision Tree</td>\n",
       "      <td>0.204747</td>\n",
       "      <td>0.203083</td>\n",
       "      <td>0.204747</td>\n",
       "      <td>0.202820</td>\n",
       "      <td>3160</td>\n",
       "    </tr>\n",
       "    <tr>\n",
       "      <th>2</th>\n",
       "      <td>Gaussian Naive Bayes</td>\n",
       "      <td>0.211709</td>\n",
       "      <td>0.233065</td>\n",
       "      <td>0.211709</td>\n",
       "      <td>0.208414</td>\n",
       "      <td>3160</td>\n",
       "    </tr>\n",
       "    <tr>\n",
       "      <th>3</th>\n",
       "      <td>Random Forest</td>\n",
       "      <td>0.473418</td>\n",
       "      <td>0.489672</td>\n",
       "      <td>0.473418</td>\n",
       "      <td>0.462910</td>\n",
       "      <td>3160</td>\n",
       "    </tr>\n",
       "  </tbody>\n",
       "</table>\n",
       "</div>"
      ],
      "text/plain": [
       "                  Model  Accuracy  Macro Precision  Macro Recall  \\\n",
       "0   Logistic Regression  0.166772         0.164540      0.166772   \n",
       "1         Decision Tree  0.204747         0.203083      0.204747   \n",
       "2  Gaussian Naive Bayes  0.211709         0.233065      0.211709   \n",
       "3         Random Forest  0.473418         0.489672      0.473418   \n",
       "\n",
       "   Macro F1-Score  Support  \n",
       "0        0.163675     3160  \n",
       "1        0.202820     3160  \n",
       "2        0.208414     3160  \n",
       "3        0.462910     3160  "
      ]
     },
     "execution_count": 70,
     "metadata": {},
     "output_type": "execute_result"
    }
   ],
   "source": [
    "fc_stats"
   ]
  },
  {
   "cell_type": "code",
   "execution_count": 74,
   "id": "9d7dd910",
   "metadata": {},
   "outputs": [],
   "source": [
    "fc_table=tabulate(fc_stats, headers = 'keys', tablefmt= 'fancy_grid')"
   ]
  },
  {
   "cell_type": "code",
   "execution_count": 75,
   "id": "4c0fef01",
   "metadata": {},
   "outputs": [
    {
     "name": "stdout",
     "output_type": "stream",
     "text": [
      "╒════╤══════════════════════╤════════════╤═══════════════════╤════════════════╤══════════════════╤═══════════╕\n",
      "│    │ Model                │   Accuracy │   Macro Precision │   Macro Recall │   Macro F1-Score │   Support │\n",
      "╞════╪══════════════════════╪════════════╪═══════════════════╪════════════════╪══════════════════╪═══════════╡\n",
      "│  0 │ Logistic Regression  │   0.166772 │          0.16454  │       0.166772 │         0.163675 │      3160 │\n",
      "├────┼──────────────────────┼────────────┼───────────────────┼────────────────┼──────────────────┼───────────┤\n",
      "│  1 │ Decision Tree        │   0.204747 │          0.203083 │       0.204747 │         0.20282  │      3160 │\n",
      "├────┼──────────────────────┼────────────┼───────────────────┼────────────────┼──────────────────┼───────────┤\n",
      "│  2 │ Gaussian Naive Bayes │   0.211709 │          0.233065 │       0.211709 │         0.208414 │      3160 │\n",
      "├────┼──────────────────────┼────────────┼───────────────────┼────────────────┼──────────────────┼───────────┤\n",
      "│  3 │ Random Forest        │   0.473418 │          0.489672 │       0.473418 │         0.46291  │      3160 │\n",
      "╘════╧══════════════════════╧════════════╧═══════════════════╧════════════════╧══════════════════╧═══════════╛\n"
     ]
    }
   ],
   "source": [
    "print(fc_table)"
   ]
  },
  {
   "cell_type": "code",
   "execution_count": 76,
   "id": "f853a3fe",
   "metadata": {},
   "outputs": [],
   "source": [
    "##final model vs basic models\n",
    "final_comparison = pd.read_csv('Final model and basic model comparison.csv')"
   ]
  },
  {
   "cell_type": "code",
   "execution_count": 79,
   "id": "b9be0891",
   "metadata": {},
   "outputs": [
    {
     "name": "stdout",
     "output_type": "stream",
     "text": [
      "    Model                Accuracy (Before → After)    Macro Precision    Macro Recall    Macro F1-Score      Support\n",
      "--  -------------------  ---------------------------  -----------------  --------------  ----------------  ---------\n",
      " 0  Logistic Regression  0.162 → 0.167                0.159 → 0.165      0.162 → 0.167   0.159 → 0.164          3160\n",
      " 1  Decision Tree        0.162 → 0.205                0.159 → 0.203      0.162 → 0.205   0.159 → 0.203          3160\n",
      " 2  Gaussian NB          0.212 → 0.212                0.233 → 0.233      0.212 → 0.212   0.208 → 0.208          3160\n",
      " 3  Random Forest        0.233 → 0.473                0.243 → 0.490      0.233 → 0.473   0.225 → 0.463          3160\n"
     ]
    }
   ],
   "source": [
    "table__ = tabulate(final_comparison, headers = 'keys', tablefmt = 'grid_line')\n",
    "print(table__)"
   ]
  }
 ],
 "metadata": {
  "kernelspec": {
   "display_name": "Python 3 (ipykernel)",
   "language": "python",
   "name": "python3"
  },
  "language_info": {
   "codemirror_mode": {
    "name": "ipython",
    "version": 3
   },
   "file_extension": ".py",
   "mimetype": "text/x-python",
   "name": "python",
   "nbconvert_exporter": "python",
   "pygments_lexer": "ipython3",
   "version": "3.9.12"
  }
 },
 "nbformat": 4,
 "nbformat_minor": 5
}
